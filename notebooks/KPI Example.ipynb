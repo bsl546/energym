{
 "cells": [
  {
   "cell_type": "markdown",
   "metadata": {},
   "source": [
    "# KPI Example"
   ]
  },
  {
   "cell_type": "markdown",
   "metadata": {},
   "source": [
    "In this example we look at the options for KPI tracking and their evaluation.\n",
    "\n",
    "To illustrate the default settings, we first create a simulation environment, using the Offices model."
   ]
  },
  {
   "cell_type": "code",
   "execution_count": 1,
   "metadata": {},
   "outputs": [
    {
     "name": "stdout",
     "output_type": "stream",
     "text": [
      "[OK] fmi2Instantiate: The Resource location of FMU with instance name %s is %s.\n",
      "\n",
      "[WARNING] fmi2Instantiate: Argument loggingOn is set to %d\n",
      ". This is not supported. loggingOn will default to '0'.\n",
      "\n",
      "[OK] The current working directory is %s\n",
      "\n",
      "[OK] fmi2Instantiate: Path to fmuUnzipLocation is not %s.\n",
      "\n",
      "[OK] fmi2Instantiate: Path to fmuUnzipLocation is not %s.\n",
      "\n",
      "[OK] fmi2Instantiate: Path to fmuUnzipLocation is not %s.\n",
      "\n",
      "[OK] fmi2Instantiate: Path to fmuUnzipLocation %s\n",
      "\n",
      "[OK] fmi2Instantiate: Path to fmuResourceLocation %s\n",
      "\n",
      "[OK] Command executes to copy content of resources folder: %s\n",
      "\n",
      "[OK] fmi2Instantiate: Path to model description file is %s.\n",
      "\n",
      "[OK] fmi2Instantiate: The FMU modelIdentifier is %s.\n",
      "\n",
      "[OK] fmi2Instantiate: The FMU modelGUID is %s.\n",
      "\n",
      "[OK] fmi2Instantiate: Slave %s is instantiated.\n",
      "\n",
      "[OK] fmi2Instantiate: Instantiation of %s succeded.\n",
      "\n",
      "[OK] fmi2EnterInitializationMode: The sockfd is %d.\n",
      "\n",
      "[OK] fmi2EnterInitializationMode: The port number is %d.\n",
      "\n",
      "[OK] fmi2EnterInitializationMode: This hostname is %s.\n",
      "\n",
      "[OK] fmi2EnterInitializationMode: TCPServer Server waiting for clients on port: %d.\n",
      "\n",
      "[OK] fmi2EnterInitializationMode: The number of input variables is %d.\n",
      "\n",
      "[OK] fmi2EnterInitializationMode: The number of output variables is %d.\n",
      "\n",
      "[OK] Get input file from resource folder %s.\n",
      "\n",
      "[OK] Searching for following pattern %s\n",
      "\n",
      "[OK] Read directory and search for *.idf, *.epw, or *.idd file.\n",
      "\n",
      "[OK] Read directory and search for *.idf, *.epw, or *.idd file.\n",
      "\n",
      "[OK] Read directory and search for *.idf, *.epw, or *.idd file.\n",
      "\n",
      "[OK] Read directory and search for *.idf, *.epw, or *.idd file.\n",
      "\n",
      "[OK] Read directory and search for *.idf, *.epw, or *.idd file.\n",
      "\n",
      "[OK] Read directory and search for *.idf, *.epw, or *.idd file.\n",
      "\n",
      "[OK] Found matching file %s.\n",
      "\n",
      "[OK] done searching pattern %s\n",
      "\n",
      "[OK] Get input file from resource folder %s.\n",
      "\n",
      "[OK] Searching for following pattern %s\n",
      "\n",
      "[OK] Read directory and search for *.idf, *.epw, or *.idd file.\n",
      "\n",
      "[OK] Read directory and search for *.idf, *.epw, or *.idd file.\n",
      "\n",
      "[OK] Read directory and search for *.idf, *.epw, or *.idd file.\n",
      "\n",
      "[OK] Read directory and search for *.idf, *.epw, or *.idd file.\n",
      "\n",
      "[OK] Found matching file %s.\n",
      "\n",
      "[OK] done searching pattern %s\n",
      "\n",
      "[OK] Get input file from resource folder %s.\n",
      "\n",
      "[OK] Searching for following pattern %s\n",
      "\n",
      "[OK] Read directory and search for *.idf, *.epw, or *.idd file.\n",
      "\n",
      "[OK] Read directory and search for *.idf, *.epw, or *.idd file.\n",
      "\n",
      "[OK] Read directory and search for *.idf, *.epw, or *.idd file.\n",
      "\n",
      "[OK] Found matching file %s.\n",
      "\n",
      "[OK] done searching pattern %s\n",
      "\n",
      "[OK] This version uses the **energyplus** command line interface to  call the EnergyPlus executable. **RunEPlus.bat** and **runenergyplus** , which were used in earlier versions, were deprecated as of August 2015.\n",
      "[OK] fmi2EnterInitializationMode: The connection has been accepted.\n",
      "\n",
      "[OK] fmi2EnterInitializationMode: Slave %s is initialized.\n",
      "\n"
     ]
    }
   ],
   "source": [
    "import energym\n",
    "\n",
    "env = energym.make(\"OfficesThermostat-v0\", simulation_days=300)"
   ]
  },
  {
   "cell_type": "markdown",
   "metadata": {},
   "source": [
    "During the simulation, the important values for the KPIs are stored in a KPI object and can be retrieved with the `get_kpi()` method."
   ]
  },
  {
   "cell_type": "code",
   "execution_count": 2,
   "metadata": {},
   "outputs": [
    {
     "name": "stdout",
     "output_type": "stream",
     "text": [
      "{'kpi1': {'name': 'Fa_Pw_All', 'type': 'avg', 'kpi': 1933.097892619751}, 'kpi2': {'name': 'Z01_T', 'type': 'avg_dev', 'target': [19, 24], 'kpi': 0.1818520220347843}, 'kpi3': {'name': 'Z02_T', 'type': 'avg_dev', 'target': [19, 24], 'kpi': 0.3843820872934631}, 'kpi4': {'name': 'Z03_T', 'type': 'avg_dev', 'target': [19, 24], 'kpi': 0.4492356886047587}, 'kpi5': {'name': 'Z04_T', 'type': 'avg_dev', 'target': [19, 24], 'kpi': 0.4769999114379626}, 'kpi6': {'name': 'Z05_T', 'type': 'avg_dev', 'target': [19, 24], 'kpi': 0.28759098919405063}, 'kpi7': {'name': 'Z06_T', 'type': 'avg_dev', 'target': [19, 24], 'kpi': 0.7346050381770025}, 'kpi8': {'name': 'Z07_T', 'type': 'avg_dev', 'target': [19, 24], 'kpi': 0.7412273635737812}, 'kpi16': {'name': 'Z15_T', 'type': 'avg_dev', 'target': [19, 24], 'kpi': 2.2118444553631686}, 'kpi17': {'name': 'Z16_T', 'type': 'avg_dev', 'target': [19, 24], 'kpi': 1.208163739536243}, 'kpi18': {'name': 'Z17_T', 'type': 'avg_dev', 'target': [19, 24], 'kpi': 0.03245551101207099}, 'kpi19': {'name': 'Z18_T', 'type': 'avg_dev', 'target': [19, 24], 'kpi': 0.3290193419351164}, 'kpi20': {'name': 'Z19_T', 'type': 'avg_dev', 'target': [19, 24], 'kpi': 0.046590732155760685}, 'kpi21': {'name': 'Z20_T', 'type': 'avg_dev', 'target': [19, 24], 'kpi': 0.7139002375762351}, 'kpi26': {'name': 'Z25_T', 'type': 'avg_dev', 'target': [19, 24], 'kpi': 0.022292636987625934}, 'kpi27': {'name': 'Z01_T', 'type': 'tot_viol', 'target': [19, 24], 'kpi': 351}, 'kpi28': {'name': 'Z02_T', 'type': 'tot_viol', 'target': [19, 24], 'kpi': 225}, 'kpi29': {'name': 'Z03_T', 'type': 'tot_viol', 'target': [19, 24], 'kpi': 222}, 'kpi30': {'name': 'Z04_T', 'type': 'tot_viol', 'target': [19, 24], 'kpi': 251}, 'kpi31': {'name': 'Z05_T', 'type': 'tot_viol', 'target': [19, 24], 'kpi': 327}, 'kpi32': {'name': 'Z06_T', 'type': 'tot_viol', 'target': [19, 24], 'kpi': 307}, 'kpi33': {'name': 'Z07_T', 'type': 'tot_viol', 'target': [19, 24], 'kpi': 307}, 'kpi41': {'name': 'Z15_T', 'type': 'tot_viol', 'target': [19, 24], 'kpi': 501}, 'kpi42': {'name': 'Z16_T', 'type': 'tot_viol', 'target': [19, 24], 'kpi': 475}, 'kpi43': {'name': 'Z17_T', 'type': 'tot_viol', 'target': [19, 24], 'kpi': 42}, 'kpi44': {'name': 'Z18_T', 'type': 'tot_viol', 'target': [19, 24], 'kpi': 432}, 'kpi45': {'name': 'Z19_T', 'type': 'tot_viol', 'target': [19, 24], 'kpi': 62}, 'kpi46': {'name': 'Z20_T', 'type': 'tot_viol', 'target': [19, 24], 'kpi': 463}, 'kpi51': {'name': 'Z25_T', 'type': 'tot_viol', 'target': [19, 24], 'kpi': 40}}\n"
     ]
    }
   ],
   "source": [
    "for _ in range(500):\n",
    "    action = env.sample_random_action()\n",
    "    output = env.step(action)\n",
    "\n",
    "print(env.get_kpi())"
   ]
  },
  {
   "cell_type": "markdown",
   "metadata": {},
   "source": [
    "Through this, we can directly see the default KPIs that are tracked for the Offices model. Those are\n",
    "* The average power demand of the whole facility\n",
    "* The average temperature deviation from a fixed interval for all zones\n",
    "* The total temperature interval violations for all zones\n",
    "\n",
    "In the example above, we did not specify any arguments for `get_kpi()`, so the KPIs were computed over all performed simulation steps. To get the KPIs from a specific time interval, we can specify the simulation steps in the method call:"
   ]
  },
  {
   "cell_type": "code",
   "execution_count": 3,
   "metadata": {},
   "outputs": [
    {
     "name": "stdout",
     "output_type": "stream",
     "text": [
      "{'kpi1': {'name': 'Fa_Pw_All', 'type': 'avg', 'kpi': 1921.4823123126669}, 'kpi2': {'name': 'Z01_T', 'type': 'avg_dev', 'target': [19, 24], 'kpi': 0.1573853083208828}, 'kpi3': {'name': 'Z02_T', 'type': 'avg_dev', 'target': [19, 24], 'kpi': 0.37227112901825216}, 'kpi4': {'name': 'Z03_T', 'type': 'avg_dev', 'target': [19, 24], 'kpi': 0.4261302830511886}, 'kpi5': {'name': 'Z04_T', 'type': 'avg_dev', 'target': [19, 24], 'kpi': 0.4957972201715515}, 'kpi6': {'name': 'Z05_T', 'type': 'avg_dev', 'target': [19, 24], 'kpi': 0.26159124363016045}, 'kpi7': {'name': 'Z06_T', 'type': 'avg_dev', 'target': [19, 24], 'kpi': 0.660215604516257}, 'kpi8': {'name': 'Z07_T', 'type': 'avg_dev', 'target': [19, 24], 'kpi': 0.7200224910693038}, 'kpi16': {'name': 'Z15_T', 'type': 'avg_dev', 'target': [19, 24], 'kpi': 2.297474883555688}, 'kpi17': {'name': 'Z16_T', 'type': 'avg_dev', 'target': [19, 24], 'kpi': 1.40532108250742}, 'kpi18': {'name': 'Z17_T', 'type': 'avg_dev', 'target': [19, 24], 'kpi': 0.0675676410001173}, 'kpi19': {'name': 'Z18_T', 'type': 'avg_dev', 'target': [19, 24], 'kpi': 0.4480624623851421}, 'kpi20': {'name': 'Z19_T', 'type': 'avg_dev', 'target': [19, 24], 'kpi': 0.030272357503866}, 'kpi21': {'name': 'Z20_T', 'type': 'avg_dev', 'target': [19, 24], 'kpi': 0.6901404546664289}, 'kpi26': {'name': 'Z25_T', 'type': 'avg_dev', 'target': [19, 24], 'kpi': 0.006139037759710159}, 'kpi27': {'name': 'Z01_T', 'type': 'tot_viol', 'target': [19, 24], 'kpi': 141}, 'kpi28': {'name': 'Z02_T', 'type': 'tot_viol', 'target': [19, 24], 'kpi': 89}, 'kpi29': {'name': 'Z03_T', 'type': 'tot_viol', 'target': [19, 24], 'kpi': 84}, 'kpi30': {'name': 'Z04_T', 'type': 'tot_viol', 'target': [19, 24], 'kpi': 97}, 'kpi31': {'name': 'Z05_T', 'type': 'tot_viol', 'target': [19, 24], 'kpi': 113}, 'kpi32': {'name': 'Z06_T', 'type': 'tot_viol', 'target': [19, 24], 'kpi': 121}, 'kpi33': {'name': 'Z07_T', 'type': 'tot_viol', 'target': [19, 24], 'kpi': 122}, 'kpi41': {'name': 'Z15_T', 'type': 'tot_viol', 'target': [19, 24], 'kpi': 200}, 'kpi42': {'name': 'Z16_T', 'type': 'tot_viol', 'target': [19, 24], 'kpi': 200}, 'kpi43': {'name': 'Z17_T', 'type': 'tot_viol', 'target': [19, 24], 'kpi': 29}, 'kpi44': {'name': 'Z18_T', 'type': 'tot_viol', 'target': [19, 24], 'kpi': 193}, 'kpi45': {'name': 'Z19_T', 'type': 'tot_viol', 'target': [19, 24], 'kpi': 16}, 'kpi46': {'name': 'Z20_T', 'type': 'tot_viol', 'target': [19, 24], 'kpi': 196}, 'kpi51': {'name': 'Z25_T', 'type': 'tot_viol', 'target': [19, 24], 'kpi': 8}}\n"
     ]
    }
   ],
   "source": [
    "print(env.get_kpi(start_ind=100, end_ind=300))"
   ]
  },
  {
   "cell_type": "markdown",
   "metadata": {},
   "source": [
    "The `get_kpi()` method comes in handy if we want to use the KPI values somewhere in the code. To simply print the KPIs, we can directly use the `print_kpis()` method:"
   ]
  },
  {
   "cell_type": "code",
   "execution_count": 4,
   "metadata": {},
   "outputs": [
    {
     "name": "stdout",
     "output_type": "stream",
     "text": [
      "####################################################################\n",
      "Variable name: Fa_Pw_All, kpi type: avg, kpi value: 1933.097892619751\n",
      "####################################################################\n",
      "Variable name: Z01_T, kpi type: avg_dev, kpi value: 0.1818520220347843\n",
      "####################################################################\n",
      "Variable name: Z02_T, kpi type: avg_dev, kpi value: 0.3843820872934631\n",
      "####################################################################\n",
      "Variable name: Z03_T, kpi type: avg_dev, kpi value: 0.4492356886047587\n",
      "####################################################################\n",
      "Variable name: Z04_T, kpi type: avg_dev, kpi value: 0.4769999114379626\n",
      "####################################################################\n",
      "Variable name: Z05_T, kpi type: avg_dev, kpi value: 0.28759098919405063\n",
      "####################################################################\n",
      "Variable name: Z06_T, kpi type: avg_dev, kpi value: 0.7346050381770025\n",
      "####################################################################\n",
      "Variable name: Z07_T, kpi type: avg_dev, kpi value: 0.7412273635737812\n",
      "####################################################################\n",
      "Variable name: Z15_T, kpi type: avg_dev, kpi value: 2.2118444553631686\n",
      "####################################################################\n",
      "Variable name: Z16_T, kpi type: avg_dev, kpi value: 1.208163739536243\n",
      "####################################################################\n",
      "Variable name: Z17_T, kpi type: avg_dev, kpi value: 0.03245551101207099\n",
      "####################################################################\n",
      "Variable name: Z18_T, kpi type: avg_dev, kpi value: 0.3290193419351164\n",
      "####################################################################\n",
      "Variable name: Z19_T, kpi type: avg_dev, kpi value: 0.046590732155760685\n",
      "####################################################################\n",
      "Variable name: Z20_T, kpi type: avg_dev, kpi value: 0.7139002375762351\n",
      "####################################################################\n",
      "Variable name: Z25_T, kpi type: avg_dev, kpi value: 0.022292636987625934\n",
      "####################################################################\n",
      "Variable name: Z01_T, kpi type: tot_viol, kpi value: 351\n",
      "####################################################################\n",
      "Variable name: Z02_T, kpi type: tot_viol, kpi value: 225\n",
      "####################################################################\n",
      "Variable name: Z03_T, kpi type: tot_viol, kpi value: 222\n",
      "####################################################################\n",
      "Variable name: Z04_T, kpi type: tot_viol, kpi value: 251\n",
      "####################################################################\n",
      "Variable name: Z05_T, kpi type: tot_viol, kpi value: 327\n",
      "####################################################################\n",
      "Variable name: Z06_T, kpi type: tot_viol, kpi value: 307\n",
      "####################################################################\n",
      "Variable name: Z07_T, kpi type: tot_viol, kpi value: 307\n",
      "####################################################################\n",
      "Variable name: Z15_T, kpi type: tot_viol, kpi value: 501\n",
      "####################################################################\n",
      "Variable name: Z16_T, kpi type: tot_viol, kpi value: 475\n",
      "####################################################################\n",
      "Variable name: Z17_T, kpi type: tot_viol, kpi value: 42\n",
      "####################################################################\n",
      "Variable name: Z18_T, kpi type: tot_viol, kpi value: 432\n",
      "####################################################################\n",
      "Variable name: Z19_T, kpi type: tot_viol, kpi value: 62\n",
      "####################################################################\n",
      "Variable name: Z20_T, kpi type: tot_viol, kpi value: 463\n",
      "####################################################################\n",
      "Variable name: Z25_T, kpi type: tot_viol, kpi value: 40\n"
     ]
    }
   ],
   "source": [
    "env.print_kpis()"
   ]
  },
  {
   "cell_type": "markdown",
   "metadata": {},
   "source": [
    "Sometimes we want to evaluate KPI for more than one zone, for example the average temperature deviation or the number of temperature violations over all zones. For this, the `get_cumulative_kpi()` method can be used. We need to specify a part of the name that all relevant KPIs have in common (here e.g. \"_T\") the KPI type that should be aggregated (e.g. \"avg_dev\") and the type of aggregation (e.g. \"avg\"). In code this looks as follows:"
   ]
  },
  {
   "cell_type": "code",
   "execution_count": 5,
   "metadata": {},
   "outputs": [
    {
     "name": "stdout",
     "output_type": "stream",
     "text": [
      "0.5585828396344302\n",
      "4005\n"
     ]
    }
   ],
   "source": [
    "print(env.get_cumulative_kpi(names=\"_T\", kpi_type=\"avg_dev\", out_type=\"avg\"))\n",
    "print(env.get_cumulative_kpi(names=\"_T\", kpi_type=\"tot_viol\", out_type=\"sum\"))"
   ]
  },
  {
   "cell_type": "markdown",
   "metadata": {},
   "source": [
    "Another way to aggregate KPIs over different zones is to pass a list of names that should be aggregated:"
   ]
  },
  {
   "cell_type": "code",
   "execution_count": 6,
   "metadata": {},
   "outputs": [
    {
     "name": "stdout",
     "output_type": "stream",
     "text": [
      "0.3384899326443354\n",
      "[OK] fmi2Terminate: fmiFreeInstanceSlave must be called to free the FMU instance.\n",
      "\n",
      "[OK] fmi2FreeInstance: The function fmi2FreeInstance of instance %s is executed.\n",
      "\n",
      "[OK] freeInstanceResources: %s will be freed.\n",
      "\n"
     ]
    }
   ],
   "source": [
    "print(env.get_cumulative_kpi(names=[\"Z01_T\", \"Z02_T\", \"Z03_T\"], kpi_type=\"avg_dev\", out_type=\"avg\"))\n",
    "env.close()"
   ]
  },
  {
   "cell_type": "markdown",
   "metadata": {},
   "source": [
    "## Specifying custom KPIs\n",
    "\n",
    "To track custom KPIs instead of default ones, it is possible to specify the kpi_options parameter in the construction of the simulation environment. We will illustrate this through tracking the average power demand at the HVAC, building and facility level, and the average deviation of two zone temperatures from a fixed target:"
   ]
  },
  {
   "cell_type": "code",
   "execution_count": 7,
   "metadata": {},
   "outputs": [
    {
     "name": "stdout",
     "output_type": "stream",
     "text": [
      "[OK] fmi2Instantiate: The Resource location of FMU with instance name %s is %s.\n",
      "\n",
      "[WARNING] fmi2Instantiate: Argument loggingOn is set to %d\n",
      ". This is not supported. loggingOn will default to '0'.\n",
      "\n",
      "[OK] The current working directory is %s\n",
      "\n",
      "[OK] fmi2Instantiate: Path to fmuUnzipLocation is not %s.\n",
      "\n",
      "[OK] fmi2Instantiate: Path to fmuUnzipLocation is not %s.\n",
      "\n",
      "[OK] fmi2Instantiate: Path to fmuUnzipLocation is not %s.\n",
      "\n",
      "[OK] fmi2Instantiate: Path to fmuUnzipLocation %s\n",
      "\n",
      "[OK] fmi2Instantiate: Path to fmuResourceLocation %s\n",
      "\n",
      "[OK] Command executes to copy content of resources folder: %s\n",
      "\n",
      "[OK] fmi2Instantiate: Path to model description file is %s.\n",
      "\n",
      "[OK] fmi2Instantiate: The FMU modelIdentifier is %s.\n",
      "\n",
      "[OK] fmi2Instantiate: The FMU modelGUID is %s.\n",
      "\n",
      "[OK] fmi2Instantiate: Slave %s is instantiated.\n",
      "\n",
      "[OK] fmi2Instantiate: Instantiation of %s succeded.\n",
      "\n",
      "[OK] fmi2EnterInitializationMode: The sockfd is %d.\n",
      "\n",
      "[OK] fmi2EnterInitializationMode: The port number is %d.\n",
      "\n",
      "[OK] fmi2EnterInitializationMode: This hostname is %s.\n",
      "\n",
      "[OK] fmi2EnterInitializationMode: TCPServer Server waiting for clients on port: %d.\n",
      "\n",
      "[OK] fmi2EnterInitializationMode: The number of input variables is %d.\n",
      "\n",
      "[OK] fmi2EnterInitializationMode: The number of output variables is %d.\n",
      "\n",
      "[OK] Get input file from resource folder %s.\n",
      "\n",
      "[OK] Searching for following pattern %s\n",
      "\n",
      "[OK] Read directory and search for *.idf, *.epw, or *.idd file.\n",
      "\n",
      "[OK] Read directory and search for *.idf, *.epw, or *.idd file.\n",
      "\n",
      "[OK] Read directory and search for *.idf, *.epw, or *.idd file.\n",
      "\n",
      "[OK] Read directory and search for *.idf, *.epw, or *.idd file.\n",
      "\n",
      "[OK] Read directory and search for *.idf, *.epw, or *.idd file.\n",
      "\n",
      "[OK] Read directory and search for *.idf, *.epw, or *.idd file.\n",
      "\n",
      "[OK] Found matching file %s.\n",
      "\n",
      "[OK] done searching pattern %s\n",
      "\n",
      "[OK] Get input file from resource folder %s.\n",
      "\n",
      "[OK] Searching for following pattern %s\n",
      "\n",
      "[OK] Read directory and search for *.idf, *.epw, or *.idd file.\n",
      "\n",
      "[OK] Read directory and search for *.idf, *.epw, or *.idd file.\n",
      "\n",
      "[OK] Read directory and search for *.idf, *.epw, or *.idd file.\n",
      "\n",
      "[OK] Read directory and search for *.idf, *.epw, or *.idd file.\n",
      "\n",
      "[OK] Found matching file %s.\n",
      "\n",
      "[OK] done searching pattern %s\n",
      "\n",
      "[OK] Get input file from resource folder %s.\n",
      "\n",
      "[OK] Searching for following pattern %s\n",
      "\n",
      "[OK] Read directory and search for *.idf, *.epw, or *.idd file.\n",
      "\n",
      "[OK] Read directory and search for *.idf, *.epw, or *.idd file.\n",
      "\n",
      "[OK] Read directory and search for *.idf, *.epw, or *.idd file.\n",
      "\n",
      "[OK] Found matching file %s.\n",
      "\n",
      "[OK] done searching pattern %s\n",
      "\n",
      "[OK] This version uses the **energyplus** command line interface to  call the EnergyPlus executable. **RunEPlus.bat** and **runenergyplus** , which were used in earlier versions, were deprecated as of August 2015.\n",
      "[OK] fmi2EnterInitializationMode: The connection has been accepted.\n",
      "\n",
      "[OK] fmi2EnterInitializationMode: Slave %s is initialized.\n",
      "\n"
     ]
    }
   ],
   "source": [
    "kpi_options = {\"kpi1\": {\"name\":\"Fa_Pw_All\", \"type\":\"avg\"},\n",
    "              \"kpi2\": {\"name\":\"Bd_Pw_All\", \"type\":\"avg\"},\n",
    "              \"kpi3\": {\"name\":\"Fa_Pw_HVAC\", \"type\":\"avg\"},\n",
    "              \"kpi5\": {\"name\":\"Z01_T\", \"type\":\"avg_dev\", \"target\":23},\n",
    "              \"kpi6\": {\"name\":\"Z02_T\", \"type\":\"avg_dev\", \"target\":23}\n",
    "              }\n",
    "\n",
    "env = energym.make(\"OfficesThermostat-v0\", simulation_days=300, kpi_options=kpi_options)"
   ]
  },
  {
   "cell_type": "markdown",
   "metadata": {},
   "source": [
    "We run this simulation again for a few timesteps with random actions and observe the KPIs:"
   ]
  },
  {
   "cell_type": "code",
   "execution_count": 8,
   "metadata": {},
   "outputs": [
    {
     "name": "stdout",
     "output_type": "stream",
     "text": [
      "####################################################################\n",
      "Variable name: Fa_Pw_All, kpi type: avg, kpi value: 2194.336931927295\n",
      "####################################################################\n",
      "Variable name: Bd_Pw_All, kpi type: avg, kpi value: 0.0\n",
      "####################################################################\n",
      "Variable name: Fa_Pw_HVAC, kpi type: avg, kpi value: 2194.336931927295\n",
      "####################################################################\n",
      "Variable name: Z01_T, kpi type: avg_dev, kpi value: 3.8400736461086904\n",
      "####################################################################\n",
      "Variable name: Z02_T, kpi type: avg_dev, kpi value: 3.640314683871775\n",
      "[OK] fmi2Terminate: fmiFreeInstanceSlave must be called to free the FMU instance.\n",
      "\n",
      "[OK] fmi2FreeInstance: The function fmi2FreeInstance of instance %s is executed.\n",
      "\n",
      "[OK] freeInstanceResources: %s will be freed.\n",
      "\n"
     ]
    }
   ],
   "source": [
    "for _ in range(500):\n",
    "    action = env.sample_random_action()\n",
    "    output = env.step(action)\n",
    "\n",
    "env.print_kpis()\n",
    "\n",
    "env.close()"
   ]
  },
  {
   "cell_type": "code",
   "execution_count": null,
   "metadata": {},
   "outputs": [],
   "source": []
  }
 ],
 "metadata": {
  "kernelspec": {
   "display_name": "Python 3",
   "language": "python",
   "name": "python3"
  },
  "language_info": {
   "codemirror_mode": {
    "name": "ipython",
    "version": 3
   },
   "file_extension": ".py",
   "mimetype": "text/x-python",
   "name": "python",
   "nbconvert_exporter": "python",
   "pygments_lexer": "ipython3",
   "version": "3.7.6"
  }
 },
 "nbformat": 4,
 "nbformat_minor": 4
}
