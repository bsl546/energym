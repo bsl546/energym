{
 "cells": [
  {
   "cell_type": "markdown",
   "metadata": {},
   "source": [
    "# KPI Example"
   ]
  },
  {
   "cell_type": "markdown",
   "metadata": {},
   "source": [
    "In this example we look at the options for KPI tracking and their evaluation.\n",
    "\n",
    "To illustrate the default settings, we first create a simulation environment, using the simple data center model."
   ]
  },
  {
   "cell_type": "code",
   "execution_count": 1,
   "metadata": {},
   "outputs": [
    {
     "name": "stdout",
     "output_type": "stream",
     "text": [
      "[OK] The current working directory is %s\n",
      "\n",
      "[OK] fmiInstantiateSlave: Path to fmuUnzipLocation is not %s.\n",
      "\n",
      "[OK] fmiInstantiateSlave: Path to fmuUnzipLocation is not %s.\n",
      "\n",
      "[OK] fmiInstantiateSlave: Path to fmuUnzipLocation is not %s.\n",
      "\n",
      "[OK] Command executes to copy content of resources folder: %s\n",
      "\n",
      "[OK] fmiInstantiateSlave: Path to model description file is %s.\n",
      "\n",
      "[OK] fmiInstantiateSlave: The FMU modelIdentifier is %s.\n",
      "\n",
      "[OK] fmiInstantiateSlave: The FMU modelGUID is %s.\n",
      "\n",
      "[OK] fmiInstantiateSlave: Slave %s is instantiated.\n",
      "\n",
      "[OK] fmiInstantiateSlave: Instantiation of %s succeded.\n",
      "\n"
     ]
    }
   ],
   "source": [
    "import energym\n",
    "\n",
    "env = energym.make(\"DatacenterThermostat-v0\", simulation_days=300)"
   ]
  },
  {
   "cell_type": "markdown",
   "metadata": {},
   "source": [
    "During the simulation, the important values for the KPIs are stored in a KPI object and can be retrieved with the `get_kpi()` method."
   ]
  },
  {
   "cell_type": "code",
   "execution_count": 2,
   "metadata": {},
   "outputs": [
    {
     "name": "stdout",
     "output_type": "stream",
     "text": [
      "[OK] fmiInitializeSlave: The sockfd is %d.\n",
      "\n",
      "[OK] fmiInitializeSlave: The port number is %d.\n",
      "\n",
      "[OK] fmiInitializeSlave: This hostname is %s.\n",
      "\n",
      "[OK] fmiInitializeSlave: TCPServer Server waiting for clients on port: %d.\n",
      "\n",
      "[OK] fmiInitializeSlave: The number of input variables is %d.\n",
      "\n",
      "[OK] fmiInitializeSlave: The number of output variables is %d.\n",
      "\n",
      "[OK] Get input file from resource folder %s.\n",
      "\n",
      "[OK] Searching for following pattern %s\n",
      "\n",
      "[OK] Read directory and search for *.idf, *.epw, or *.idd file.\n",
      "\n",
      "[OK] Read directory and search for *.idf, *.epw, or *.idd file.\n",
      "\n",
      "[OK] Read directory and search for *.idf, *.epw, or *.idd file.\n",
      "\n",
      "[OK] Read directory and search for *.idf, *.epw, or *.idd file.\n",
      "\n",
      "[OK] Read directory and search for *.idf, *.epw, or *.idd file.\n",
      "\n",
      "[OK] Read directory and search for *.idf, *.epw, or *.idd file.\n",
      "\n",
      "[OK] Read directory and search for *.idf, *.epw, or *.idd file.\n",
      "\n",
      "[OK] Found matching file %s.\n",
      "\n",
      "[OK] done searching pattern %s\n",
      "\n",
      "[OK] Get input file from resource folder %s.\n",
      "\n",
      "[OK] Searching for following pattern %s\n",
      "\n",
      "[OK] Read directory and search for *.idf, *.epw, or *.idd file.\n",
      "\n",
      "[OK] Read directory and search for *.idf, *.epw, or *.idd file.\n",
      "\n",
      "[OK] Read directory and search for *.idf, *.epw, or *.idd file.\n",
      "\n",
      "[OK] Read directory and search for *.idf, *.epw, or *.idd file.\n",
      "\n",
      "[OK] Read directory and search for *.idf, *.epw, or *.idd file.\n",
      "\n",
      "[OK] Found matching file %s.\n",
      "\n",
      "[OK] done searching pattern %s\n",
      "\n",
      "[OK] Get input file from resource folder %s.\n",
      "\n",
      "[OK] Searching for following pattern %s\n",
      "\n",
      "[OK] Read directory and search for *.idf, *.epw, or *.idd file.\n",
      "\n",
      "[OK] Read directory and search for *.idf, *.epw, or *.idd file.\n",
      "\n",
      "[OK] Read directory and search for *.idf, *.epw, or *.idd file.\n",
      "\n",
      "[OK] Found matching file %s.\n",
      "\n",
      "[OK] done searching pattern %s\n",
      "\n",
      "[OK] This version uses the **energyplus** command line interface to  call the EnergyPlus executable. **RunEPlus.bat** and **runenergyplus** , which were used in earlier versions, were deprecated as of August 2015.\n",
      "[OK] fmiInitializeSlave: The connection has been accepted.\n",
      "\n",
      "[OK] fmiInitializeSlave: Slave %s is initialized.\n",
      "\n",
      "{'kpi1': {'name': 'Fa_Pw_All', 'type': 'avg', 'kpi': 77271.67873206396}, 'kpi2': {'name': 'Z01_T', 'type': 'avg_dev', 'target': [17, 26], 'kpi': 0.08053484806975367}, 'kpi3': {'name': 'Z02_T', 'type': 'avg_dev', 'target': [17, 26], 'kpi': 0.021179971411713086}, 'kpi4': {'name': 'Z01_T', 'type': 'tot_viol', 'target': [17, 26], 'kpi': 62}, 'kpi5': {'name': 'Z02_T', 'type': 'tot_viol', 'target': [17, 26], 'kpi': 26}}\n"
     ]
    }
   ],
   "source": [
    "for _ in range(500):\n",
    "    action = env.sample_random_action()\n",
    "    output = env.step(action)\n",
    "\n",
    "print(env.get_kpi())"
   ]
  },
  {
   "cell_type": "markdown",
   "metadata": {},
   "source": [
    "Through this, we can directly see the default KPIs that are tracked for the data center model. Those are\n",
    "* The average power demand of the whole facility\n",
    "* The average temperature deviation from an interval for both zones\n",
    "* The total temperature interval violations for both zones\n",
    "\n",
    "In the example above, we did not specify any arguments for `get_kpi()`, so the KPIs were computed over all performed simulation steps. To get the KPIs from a specific time interval, we can specify the simulation steps in the method call:"
   ]
  },
  {
   "cell_type": "code",
   "execution_count": 3,
   "metadata": {},
   "outputs": [
    {
     "name": "stdout",
     "output_type": "stream",
     "text": [
      "{'kpi1': {'name': 'Fa_Pw_All', 'type': 'avg', 'kpi': 76609.32401534989}, 'kpi2': {'name': 'Z01_T', 'type': 'avg_dev', 'target': [17, 26], 'kpi': 0.07871807946519971}, 'kpi3': {'name': 'Z02_T', 'type': 'avg_dev', 'target': [17, 26], 'kpi': 0.02236341982219245}, 'kpi4': {'name': 'Z01_T', 'type': 'tot_viol', 'target': [17, 26], 'kpi': 26}, 'kpi5': {'name': 'Z02_T', 'type': 'tot_viol', 'target': [17, 26], 'kpi': 10}}\n"
     ]
    }
   ],
   "source": [
    "print(env.get_kpi(start_ind=100, end_ind=300))"
   ]
  },
  {
   "cell_type": "markdown",
   "metadata": {},
   "source": [
    "The `get_kpi()` method comes in handy if we want to use the KPI values somewhere in the code. To simply print the KPIs, we can directly use the `print_kpis()` method:"
   ]
  },
  {
   "cell_type": "code",
   "execution_count": 4,
   "metadata": {},
   "outputs": [
    {
     "name": "stdout",
     "output_type": "stream",
     "text": [
      "####################################################################\n",
      "Variable name: Fa_Pw_All, kpi type: avg, kpi value: 77271.67873206396\n",
      "####################################################################\n",
      "Variable name: Z01_T, kpi type: avg_dev, kpi value: 0.08053484806975367\n",
      "####################################################################\n",
      "Variable name: Z02_T, kpi type: avg_dev, kpi value: 0.021179971411713086\n",
      "####################################################################\n",
      "Variable name: Z01_T, kpi type: tot_viol, kpi value: 62\n",
      "####################################################################\n",
      "Variable name: Z02_T, kpi type: tot_viol, kpi value: 26\n"
     ]
    }
   ],
   "source": [
    "env.print_kpis()"
   ]
  },
  {
   "cell_type": "markdown",
   "metadata": {},
   "source": [
    "Sometimes we want to evaluate KPI for more than one zone, for example the average temperature deviation or the number of temperature violations over all zones. For this, the `get_cumulative_kpi()` method can be used. We need to specify a part of the name that all relevant KPIs have in common (here e.g. \"_T\") the KPI type that should be aggregated (e.g. \"avg_dev\") and the type of aggregation (e.g. \"avg\"). In code this looks as follows:"
   ]
  },
  {
   "cell_type": "code",
   "execution_count": 5,
   "metadata": {},
   "outputs": [
    {
     "name": "stdout",
     "output_type": "stream",
     "text": [
      "0.05085740974073338\n",
      "88\n",
      "[OK] fmiTerminateSlave: fmiFreeInstanceSlave must be called to free the FMU instance.\n",
      "\n",
      "[OK] fmiFreeSlaveInstance: The function fmiFreeSlaveInstance of instance %s is executed.\n",
      "\n",
      "[OK] freeInstanceResources: %s will be freed.\n",
      "\n"
     ]
    }
   ],
   "source": [
    "print(env.get_cumulative_kpi(phrase=\"_T\", kpi_type=\"avg_dev\", out_type=\"avg\"))\n",
    "print(env.get_cumulative_kpi(phrase=\"_T\", kpi_type=\"tot_viol\", out_type=\"sum\"))\n",
    "\n",
    "env.close()"
   ]
  },
  {
   "cell_type": "markdown",
   "metadata": {},
   "source": [
    "## Specifying custom KPIs\n",
    "\n",
    "To track custom KPIs instead of default ones, it is possible to specify the kpi_options parameter in the construction of the simulation environment. We will illustrate this through tracking the average power demand at the HVAC, building and facility level, the total facility power demand and the average deviation of the zone temperatures from a fixed target:"
   ]
  },
  {
   "cell_type": "code",
   "execution_count": 6,
   "metadata": {},
   "outputs": [
    {
     "name": "stdout",
     "output_type": "stream",
     "text": [
      "[OK] The current working directory is %s\n",
      "\n",
      "[OK] fmiInstantiateSlave: Path to fmuUnzipLocation is not %s.\n",
      "\n",
      "[OK] fmiInstantiateSlave: Path to fmuUnzipLocation is not %s.\n",
      "\n",
      "[OK] fmiInstantiateSlave: Path to fmuUnzipLocation is not %s.\n",
      "\n",
      "[OK] Command executes to copy content of resources folder: %s\n",
      "\n",
      "[OK] fmiInstantiateSlave: Path to model description file is %s.\n",
      "\n",
      "[OK] fmiInstantiateSlave: The FMU modelIdentifier is %s.\n",
      "\n",
      "[OK] fmiInstantiateSlave: The FMU modelGUID is %s.\n",
      "\n",
      "[OK] fmiInstantiateSlave: Slave %s is instantiated.\n",
      "\n",
      "[OK] fmiInstantiateSlave: Instantiation of %s succeded.\n",
      "\n"
     ]
    }
   ],
   "source": [
    "kpi_options = {\"kpi1\": {\"name\":\"Fa_Pw_All\", \"type\":\"avg\"},\n",
    "              \"kpi2\": {\"name\":\"Bd_Pw_All\", \"type\":\"avg\"},\n",
    "              \"kpi3\": {\"name\":\"Fa_Pw_HVAC\", \"type\":\"avg\"},\n",
    "              \"kpi4\": {\"name\":\"Fa_Pw_All\", \"type\":\"sum\"},\n",
    "              \"kpi5\": {\"name\":\"Z01_T\", \"type\":\"avg_dev\", \"target\":23},\n",
    "              \"kpi6\": {\"name\":\"Z02_T\", \"type\":\"avg_dev\", \"target\":23}\n",
    "              }\n",
    "\n",
    "env = energym.make(\"DatacenterThermostat-v0\", simulation_days=300, kpi_options=kpi_options)"
   ]
  },
  {
   "cell_type": "markdown",
   "metadata": {},
   "source": [
    "We run this simulation again for a few timesteps with random actions and observe the KPIs:"
   ]
  },
  {
   "cell_type": "code",
   "execution_count": 8,
   "metadata": {},
   "outputs": [
    {
     "name": "stdout",
     "output_type": "stream",
     "text": [
      "####################################################################\n",
      "Variable name: Fa_Pw_All, kpi type: avg, kpi value: 80488.52614499704\n",
      "####################################################################\n",
      "Variable name: Bd_Pw_All, kpi type: avg, kpi value: 72127.17908818509\n",
      "####################################################################\n",
      "Variable name: Fa_Pw_HVAC, kpi type: avg, kpi value: 8361.347056811981\n",
      "####################################################################\n",
      "Variable name: Fa_Pw_All, kpi type: sum, kpi value: 80488526.14499705\n",
      "####################################################################\n",
      "Variable name: Z01_T, kpi type: avg_dev, kpi value: 3.267533214577538\n",
      "####################################################################\n",
      "Variable name: Z02_T, kpi type: avg_dev, kpi value: 2.976782357648463\n",
      "[OK] fmiTerminateSlave: fmiFreeInstanceSlave must be called to free the FMU instance.\n",
      "\n",
      "[OK] fmiFreeSlaveInstance: The function fmiFreeSlaveInstance of instance %s is executed.\n",
      "\n",
      "[OK] freeInstanceResources: %s will be freed.\n",
      "\n"
     ]
    }
   ],
   "source": [
    "for _ in range(500):\n",
    "    action = env.sample_random_action()\n",
    "    output = env.step(action)\n",
    "\n",
    "env.print_kpis()\n",
    "\n",
    "env.close()"
   ]
  }
 ],
 "metadata": {
  "kernelspec": {
   "display_name": "Python 3",
   "language": "python",
   "name": "python3"
  },
  "language_info": {
   "codemirror_mode": {
    "name": "ipython",
    "version": 3
   },
   "file_extension": ".py",
   "mimetype": "text/x-python",
   "name": "python",
   "nbconvert_exporter": "python",
   "pygments_lexer": "ipython3",
   "version": "3.7.6"
  }
 },
 "nbformat": 4,
 "nbformat_minor": 4
}
