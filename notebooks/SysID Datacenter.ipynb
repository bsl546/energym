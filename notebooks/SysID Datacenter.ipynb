{
 "cells": [
  {
   "cell_type": "code",
   "execution_count": 1,
   "metadata": {},
   "outputs": [
    {
     "name": "stdout",
     "output_type": "stream",
     "text": [
      "C:/Users/PSh/Documents/GitLab/best/\n"
     ]
    }
   ],
   "source": [
    "from sippy import *\n",
    "import numpy as np\n",
    "import random\n",
    "import matplotlib.pyplot as plt\n",
    "\n",
    "import os\n",
    "import sys\n",
    "\n",
    "os.chdir(\"../..\")\n",
    "main_fold = (os.getcwd() + '\\\\' ).replace('\\\\','/')\n",
    "print(main_fold)\n",
    "sys.path.append(main_fold)\n",
    "\n",
    "import energym"
   ]
  },
  {
   "cell_type": "code",
   "execution_count": 2,
   "metadata": {},
   "outputs": [
    {
     "name": "stdout",
     "output_type": "stream",
     "text": [
      "[OK] The current working directory is %s\n",
      "\n",
      "[OK] fmiInstantiateSlave: Path to fmuUnzipLocation is not %s.\n",
      "\n",
      "[OK] fmiInstantiateSlave: Path to fmuUnzipLocation is not %s.\n",
      "\n",
      "[OK] fmiInstantiateSlave: Path to fmuUnzipLocation is not %s.\n",
      "\n",
      "[OK] Command executes to copy content of resources folder: %s\n",
      "\n",
      "[OK] fmiInstantiateSlave: Path to model description file is %s.\n",
      "\n",
      "[OK] fmiInstantiateSlave: The FMU modelIdentifier is %s.\n",
      "\n",
      "[OK] fmiInstantiateSlave: The FMU modelGUID is %s.\n",
      "\n",
      "[OK] fmiInstantiateSlave: Slave %s is instantiated.\n",
      "\n",
      "[OK] fmiInstantiateSlave: Instantiation of %s succeded.\n",
      "\n"
     ]
    }
   ],
   "source": [
    "env = energym.make(\"DatacenterThermostat-v0\", simulation_days=60)"
   ]
  },
  {
   "cell_type": "code",
   "execution_count": 3,
   "metadata": {},
   "outputs": [],
   "source": [
    "def arrayToInput(val):\n",
    "    #print(val)\n",
    "    inputs = {'Z01_T_Thermostat_sp':[], 'Z02_T_Thermostat_sp':[], 'Bd_Load_CPU':[]}\n",
    "    \n",
    "    inputs['Z01_T_Thermostat_sp'].append(val[0])\n",
    "    inputs['Z02_T_Thermostat_sp'].append(val[1])\n",
    "    inputs['Bd_Load_CPU'].append(0)\n",
    "    return inputs\n",
    "\n",
    "def outputToArray(outputs):\n",
    "    \"\"\"return the outputs Z01_T, Z02_T and Fa_Pw_HVAC out of the list of collected outputs\"\"\"\n",
    "    vals = [[],[]]#,[]\n",
    "    for output in outputs:\n",
    "        vals[0].append(output['Z01_T'])\n",
    "        vals[1].append(output['Z02_T'])\n",
    "        #vals[2].append(output['Fa_Pw_HVAC'])\n",
    "    return np.array(vals)"
   ]
  },
  {
   "cell_type": "code",
   "execution_count": 4,
   "metadata": {},
   "outputs": [],
   "source": [
    "increasesp1 = np.linspace(17,20,20)\n",
    "increasesp2 = np.linspace(20,23,20)\n",
    "constsp1 = np.linspace(23,23,20)\n",
    "decreasesp1 = np.linspace(23,20,20)\n",
    "constsp2 = np.linspace(21,21,20)\n",
    "decreasesp2 = np.linspace(20,17,20)\n",
    "constsp3 = np.linspace(17,17,20)\n",
    "constsp4 = np.linspace(19,19,20)\n",
    "\n",
    "excitationslist = [increasesp1, increasesp2, decreasesp1, decreasesp2, constsp1, constsp2, constsp4, constsp3]"
   ]
  },
  {
   "cell_type": "code",
   "execution_count": 5,
   "metadata": {},
   "outputs": [],
   "source": [
    "import random\n",
    "\n",
    "def sampleData(env, excitationslist, num=50):\n",
    "    outputs = []\n",
    "    inputs = []\n",
    "    temp_data = []\n",
    "    for _ in range(num):\n",
    "        excit = random.sample(excitationslist, 1)[0]\n",
    "        #print(excit)\n",
    "        inputArray = [[val, val] for val in excit]\n",
    "        for i in range(len(inputArray)):\n",
    "            inp = arrayToInput(inputArray[i])\n",
    "            #print(inp)\n",
    "            output = env.step(inp)\n",
    "            outputs.append(output)\n",
    "            temp_data.append(output['Ext_T'])\n",
    "        inputs.extend(inputArray)\n",
    "    outArray = outputToArray(outputs)\n",
    "    print(temp_data)\n",
    "    inputs[0].append(temp_data[0])\n",
    "    for i in range(len(inputs)-1):\n",
    "        inputs[i+1].append(temp_data[i])\n",
    "    return np.array(inputs), np.array(outArray)"
   ]
  },
  {
   "cell_type": "code",
   "execution_count": 5,
   "metadata": {},
   "outputs": [
    {
     "name": "stdout",
     "output_type": "stream",
     "text": [
      "[[-0.01222481 -0.01222489]]\n"
     ]
    }
   ],
   "source": [
    "A = np.array([[0.75213833]])\n",
    "B = np.array([[-0.00304766, -0.00304766, -0.00013136]])\n",
    "C = np.array([[-40.9001677],\n",
    "             [-40.9004308]])\n",
    "print(np.linalg.pinv(C))\n",
    "x = np.dot(np.linalg.pinv(C),np.array([17,17]))"
   ]
  },
  {
   "cell_type": "code",
   "execution_count": 5,
   "metadata": {},
   "outputs": [],
   "source": [
    "def sampleData(env, excitationslist, num=50):\n",
    "    A = np.array([[0.70270549]])#[[0.82306505]])#[[0.01975256]])#[[0.75213833]])\n",
    "    B = np.array([[-2.65325975e-03, -2.65325975e-03,  2.46161168e-05]])#[[-1.77618530e-03, -1.77618530e-03, 8.70178708e-05]])#[[-0.02840478, -0.02840478,  0.08858316]])#[[-0.00304766, -0.00304766, -0.00013136]])\n",
    "    #C = np.array([[-40.9001677],\n",
    "    #         [-40.9004308]])\n",
    "    #C = np.array([[-50.02968829],\n",
    "    #            [-50.02718509]])\n",
    "    C = np.array([[-56.17658441],\n",
    " [-56.17387967]])\n",
    "    print(np.linalg.pinv(C))\n",
    "    x = np.dot(np.linalg.pinv(C),np.array([17,17]))\n",
    "    print(x)\n",
    "    outputs = []\n",
    "    inputs = []\n",
    "    tempData = []\n",
    "    pwData = []\n",
    "    modelTempOutputs = []\n",
    "    #for i in range(int(num/2)):\n",
    "    #    excit = excitationslist[i%4]\n",
    "    #    inputArray = [[val, val] for val in excit]\n",
    "    #    for i in range(len(inputArray)):\n",
    "    #        inp = arrayToInput(inputArray[i])\n",
    "    #        if len(tempData) > 0:\n",
    "    #            inpArr = inputArray[i].copy()\n",
    "    #            inpArr.append(tempData[-1])\n",
    "    #            modelInput = np.array(inpArr)\n",
    "    #        else:\n",
    "    #            inpArr = inputArray[i].copy()\n",
    "    #            inpArr.append(3)\n",
    "    #            modelInput = np.array(inpArr)\n",
    "    #        x = np.dot(A, x) + np.dot(B, modelInput)\n",
    "    #        print(f\"x {x}\")\n",
    "    #        print(f\"outp {np.dot(C, x)[0]}\")\n",
    "    #        modelTempOutputs.append(np.dot(C, x)[0])\n",
    "    #        output = env.step(inp)\n",
    "    #        outputs.append(output)\n",
    "    #        tempData.append(output['Ext_T'])\n",
    "    #        pwData.append(output['Fa_Pw_HVAC']/1000)\n",
    "    #    inputs.extend(inputArray)\n",
    "    for i in range(int(num)):\n",
    "        excit = excitationslist[i%4+4]\n",
    "        inputArray = [[val, val] for val in excit]\n",
    "        for i in range(len(inputArray)):\n",
    "            inp = arrayToInput(inputArray[i])\n",
    "            \n",
    "            inpArr = inputArray[i].copy()\n",
    "            if len(tempData) == 0:\n",
    "                inpArr.append(3)\n",
    "            else:\n",
    "                inpArr.append(tempData[-1])\n",
    "            modelInput = np.array(inpArr)\n",
    "            x = np.dot(A, x) + np.dot(B, modelInput)\n",
    "            modelTempOutputs.append(np.dot(C, x)[0])\n",
    "            output = env.step(inp)\n",
    "            outputs.append(output)\n",
    "            tempData.append(output['Ext_T'])\n",
    "            pwData.append(output['Fa_Pw_HVAC']/1000)\n",
    "        inputs.extend(inputArray)\n",
    "    for i in range(int(num/2)):\n",
    "        excit = excitationslist[i%4]\n",
    "        inputArray = [[val, val] for val in excit]\n",
    "        for i in range(len(inputArray)):\n",
    "            inp = arrayToInput(inputArray[i])\n",
    "            inpArr = inputArray[i].copy()\n",
    "            inpArr.append(tempData[-1])\n",
    "            modelInput = np.array(inpArr)\n",
    "            x = np.dot(A, x) + np.dot(B, modelInput)\n",
    "            modelTempOutputs.append(np.dot(C, x)[0])\n",
    "            output = env.step(inp)\n",
    "            outputs.append(output)\n",
    "            tempData.append(output['Ext_T'])\n",
    "            pwData.append(output['Fa_Pw_HVAC']/1000)\n",
    "        inputs.extend(inputArray)\n",
    "    for i in range(int(num)):\n",
    "        excit = excitationslist[-i%4-1]#+4\n",
    "        inputArray = [[val, val] for val in excit]\n",
    "        for i in range(len(inputArray)):\n",
    "            inp = arrayToInput(inputArray[i])\n",
    "            inpArr = inputArray[i].copy()\n",
    "            inpArr.append(tempData[-1])\n",
    "            modelInput = np.array(inpArr)\n",
    "            x = np.dot(A, x) + np.dot(B, modelInput)\n",
    "            modelTempOutputs.append(np.dot(C, x)[0])\n",
    "            output = env.step(inp)\n",
    "            outputs.append(output)\n",
    "            tempData.append(output['Ext_T'])\n",
    "            pwData.append(output['Fa_Pw_HVAC']/1000)\n",
    "        inputs.extend(inputArray)\n",
    "    outArray = outputToArray(outputs)\n",
    "    plt.plot(outArray[0][:500],'b')\n",
    "    plt.plot(modelTempOutputs[:500], 'r')\n",
    "    plt.show()\n",
    "    #print(tempData)\n",
    "    inputs[0].append(tempData[0])\n",
    "    for i in range(len(inputs)-1):\n",
    "        inputs[i+1].append(tempData[i])\n",
    "    return np.array(inputs), np.array(outArray), np.array(pwData)"
   ]
  },
  {
   "cell_type": "code",
   "execution_count": 6,
   "metadata": {},
   "outputs": [
    {
     "name": "stdout",
     "output_type": "stream",
     "text": [
      "[[-0.00890093 -0.00890051]]\n",
      "[-0.30262447]\n",
      "[OK] fmiInitializeSlave: The sockfd is %d.\n",
      "\n",
      "[OK] fmiInitializeSlave: The port number is %d.\n",
      "\n",
      "[OK] fmiInitializeSlave: This hostname is %s.\n",
      "\n",
      "[OK] fmiInitializeSlave: TCPServer Server waiting for clients on port: %d.\n",
      "\n",
      "[OK] fmiInitializeSlave: The number of input variables is %d.\n",
      "\n",
      "[OK] fmiInitializeSlave: The number of output variables is %d.\n",
      "\n",
      "[OK] Get input file from resource folder %s.\n",
      "\n",
      "[OK] Searching for following pattern %s\n",
      "\n",
      "[OK] Read directory and search for *.idf, *.epw, or *.idd file.\n",
      "\n",
      "[OK] Read directory and search for *.idf, *.epw, or *.idd file.\n",
      "\n",
      "[OK] Read directory and search for *.idf, *.epw, or *.idd file.\n",
      "\n",
      "[OK] Read directory and search for *.idf, *.epw, or *.idd file.\n",
      "\n",
      "[OK] Read directory and search for *.idf, *.epw, or *.idd file.\n",
      "\n",
      "[OK] Read directory and search for *.idf, *.epw, or *.idd file.\n",
      "\n",
      "[OK] Read directory and search for *.idf, *.epw, or *.idd file.\n",
      "\n",
      "[OK] Found matching file %s.\n",
      "\n",
      "[OK] done searching pattern %s\n",
      "\n",
      "[OK] Get input file from resource folder %s.\n",
      "\n",
      "[OK] Searching for following pattern %s\n",
      "\n",
      "[OK] Read directory and search for *.idf, *.epw, or *.idd file.\n",
      "\n",
      "[OK] Read directory and search for *.idf, *.epw, or *.idd file.\n",
      "\n",
      "[OK] Read directory and search for *.idf, *.epw, or *.idd file.\n",
      "\n",
      "[OK] Read directory and search for *.idf, *.epw, or *.idd file.\n",
      "\n",
      "[OK] Read directory and search for *.idf, *.epw, or *.idd file.\n",
      "\n",
      "[OK] Found matching file %s.\n",
      "\n",
      "[OK] done searching pattern %s\n",
      "\n",
      "[OK] Get input file from resource folder %s.\n",
      "\n",
      "[OK] Searching for following pattern %s\n",
      "\n",
      "[OK] Read directory and search for *.idf, *.epw, or *.idd file.\n",
      "\n",
      "[OK] Read directory and search for *.idf, *.epw, or *.idd file.\n",
      "\n",
      "[OK] Read directory and search for *.idf, *.epw, or *.idd file.\n",
      "\n",
      "[OK] Found matching file %s.\n",
      "\n",
      "[OK] done searching pattern %s\n",
      "\n",
      "[OK] This version uses the **energyplus** command line interface to  call the EnergyPlus executable. **RunEPlus.bat** and **runenergyplus** , which were used in earlier versions, were deprecated as of August 2015.\n",
      "[OK] fmiInitializeSlave: The connection has been accepted.\n",
      "\n",
      "[OK] fmiInitializeSlave: Slave %s is initialized.\n",
      "\n"
     ]
    },
    {
     "data": {
      "image/png": "[encoded data removed]",
      "text/plain": [
       "<Figure size 432x288 with 1 Axes>"
      ]
     },
     "metadata": {
      "needs_background": "light"
     },
     "output_type": "display_data"
    }
   ],
   "source": [
    "inputs, outputs, pwData = sampleData(env, excitationslist, num=100)"
   ]
  },
  {
   "cell_type": "code",
   "execution_count": 8,
   "metadata": {},
   "outputs": [
    {
     "name": "stdout",
     "output_type": "stream",
     "text": [
      "[20.61859443 22.79851062 22.99992429 ... 19.29897841 19.45291117\n",
      " 19.61046712]\n"
     ]
    }
   ],
   "source": [
    "print(outputs[0])"
   ]
  },
  {
   "cell_type": "code",
   "execution_count": 9,
   "metadata": {},
   "outputs": [],
   "source": [
    "idsystem = system_identification(outputs, inputs, 'N4SID', SS_fixed_order=1)"
   ]
  },
  {
   "cell_type": "code",
   "execution_count": 10,
   "metadata": {},
   "outputs": [
    {
     "name": "stdout",
     "output_type": "stream",
     "text": [
      "[[-56.17658441]\n",
      " [-56.17387967]]\n",
      "[[0.70270549]]\n",
      "[[-2.65325975e-03 -2.65325975e-03  2.46161168e-05]]\n",
      "[[0. 0. 0.]\n",
      " [0. 0. 0.]]\n"
     ]
    }
   ],
   "source": [
    "print(idsystem.C)\n",
    "print(idsystem.A)\n",
    "print(idsystem.B)\n",
    "print(idsystem.D)"
   ]
  },
  {
   "cell_type": "code",
   "execution_count": 13,
   "metadata": {},
   "outputs": [],
   "source": [
    "from sippy import functionsetSIM as fsetSIM\n",
    "\n",
    "x,y = fsetSIM.SS_lsim_process_form(idsystem.A,idsystem.B,idsystem.C,idsystem.D,inputs.T,np.array([[-0.85,  0.4]]))"
   ]
  },
  {
   "cell_type": "code",
   "execution_count": 15,
   "metadata": {},
   "outputs": [
    {
     "name": "stdout",
     "output_type": "stream",
     "text": [
      "[[-2.61549848e+01  5.68233343e-01]\n",
      " [-2.61512308e+01  5.73203580e-01]\n",
      " [-1.04681974e+04 -6.42146590e+03]]\n",
      "[[  22.45903045]\n",
      " [  22.45782758]\n",
      " [6329.38144688]]\n",
      "[[   21.74873877    20.6760302     20.64900367 ...    18.62770288\n",
      "     18.58173588    18.53788691]\n",
      " [   21.74132311    20.67301255    20.64636225 ...    18.62557107\n",
      "     18.57961287    18.53576943]\n",
      " [14356.21381619  8341.09173247  7840.20883632 ...  6742.335215\n",
      "   6721.04153614  6704.49435052]]\n"
     ]
    },
    {
     "data": {
      "image/png": "[encoded data removed]",
      "text/plain": [
       "<Figure size 432x288 with 1 Axes>"
      ]
     },
     "metadata": {
      "needs_background": "light"
     },
     "output_type": "display_data"
    }
   ],
   "source": [
    "import matplotlib.pyplot as plt\n",
    "x0 = np.array([[-0.85,0.4]])\n",
    "print(idsystem.C)\n",
    "print(np.dot(idsystem.C,x0.T))\n",
    "print(y)\n",
    "plt.plot(y[1,:500])\n",
    "#plt.plot(y[1])\n",
    "plt.plot(outputs[0,:500])\n",
    "plt.show()"
   ]
  },
  {
   "cell_type": "code",
   "execution_count": 16,
   "metadata": {},
   "outputs": [
    {
     "data": {
      "text/plain": [
       "array([-0.81475922, -0.54052138])"
      ]
     },
     "execution_count": 16,
     "metadata": {},
     "output_type": "execute_result"
    }
   ],
   "source": [
    "np.dot(np.linalg.pinv(idsystem.C),np.array([21,21,12000]))\n",
    "#np.dot(idsystem.C, np.array([-0.77141916,  0.4077478 ]))"
   ]
  },
  {
   "cell_type": "code",
   "execution_count": 17,
   "metadata": {},
   "outputs": [
    {
     "name": "stdout",
     "output_type": "stream",
     "text": [
      "2\n"
     ]
    }
   ],
   "source": [
    "import control\n",
    "\n",
    "print(np.linalg.matrix_rank(control.ctrb(idsystem.A, idsystem.B)))"
   ]
  },
  {
   "cell_type": "code",
   "execution_count": 32,
   "metadata": {},
   "outputs": [
    {
     "name": "stdout",
     "output_type": "stream",
     "text": [
      "[OK] fmiTerminateSlave: fmiFreeInstanceSlave must be called to free the FMU instance.\n",
      "\n",
      "[OK] fmiFreeSlaveInstance: The function fmiFreeSlaveInstance of instance %s is executed.\n",
      "\n",
      "[OK] freeInstanceResources: %s will be freed.\n",
      "\n"
     ]
    }
   ],
   "source": [
    "env.close()"
   ]
  },
  {
   "cell_type": "code",
   "execution_count": 1,
   "metadata": {},
   "outputs": [],
   "source": [
    "for i in range(0):\n",
    "    print(i)"
   ]
  }
 ],
 "metadata": {
  "kernelspec": {
   "display_name": "Python 3",
   "language": "python",
   "name": "python3"
  },
  "language_info": {
   "codemirror_mode": {
    "name": "ipython",
    "version": 3
   },
   "file_extension": ".py",
   "mimetype": "text/x-python",
   "name": "python",
   "nbconvert_exporter": "python",
   "pygments_lexer": "ipython3",
   "version": "3.7.6"
  }
 },
 "nbformat": 4,
 "nbformat_minor": 4
}
